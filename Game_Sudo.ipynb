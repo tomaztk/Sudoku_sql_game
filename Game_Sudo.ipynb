{
 "cells": [
  {
   "cell_type": "markdown",
   "id": "58615b27",
   "metadata": {},
   "source": [
    "#### Sudoku"
   ]
  },
  {
   "cell_type": "code",
   "execution_count": 2,
   "id": "3b2cb699",
   "metadata": {},
   "outputs": [],
   "source": [
    "grid = [[5,3,0,0,7,0,0,0,0],\n",
    "        [6,0,0,1,9,5,0,0,0],\n",
    "        [0,8,9,0,0,0,0,6,0],\n",
    "        [8,0,0,0,6,0,0,0,3],\n",
    "        [4,0,0,8,0,3,0,0,1],\n",
    "        [7,0,0,0,2,0,0,0,6],\n",
    "        [0,6,0,0,0,0,2,0,8],\n",
    "        [0,0,0,4,1,9,0,0,5],\n",
    "        [0,0,0,0,8,0,0,7,9]]"
   ]
  },
  {
   "cell_type": "code",
   "execution_count": 3,
   "id": "c8c2d196",
   "metadata": {},
   "outputs": [
    {
     "name": "stdout",
     "output_type": "stream",
     "text": [
      "[[5, 3, 0, 0, 7, 0, 0, 0, 0], [6, 0, 0, 1, 9, 5, 0, 0, 0], [0, 8, 9, 0, 0, 0, 0, 6, 0], [8, 0, 0, 0, 6, 0, 0, 0, 3], [4, 0, 0, 8, 0, 3, 0, 0, 1], [7, 0, 0, 0, 2, 0, 0, 0, 6], [0, 6, 0, 0, 0, 0, 2, 0, 8], [0, 0, 0, 4, 1, 9, 0, 0, 5], [0, 0, 0, 0, 8, 0, 0, 7, 9]]\n"
     ]
    }
   ],
   "source": [
    "print(grid)"
   ]
  },
  {
   "cell_type": "code",
   "execution_count": 6,
   "id": "fad8f1bc",
   "metadata": {},
   "outputs": [
    {
     "name": "stdout",
     "output_type": "stream",
     "text": [
      "Collecting numpy\n",
      "  Downloading numpy-1.22.3-cp310-cp310-win_amd64.whl (14.7 MB)\n",
      "     --------------------------------------- 14.7/14.7 MB 17.2 MB/s eta 0:00:00\n",
      "Installing collected packages: numpy\n",
      "Successfully installed numpy-1.22.3\n"
     ]
    }
   ],
   "source": [
    "!pip install numpy"
   ]
  },
  {
   "cell_type": "code",
   "execution_count": 7,
   "id": "78b16bfe",
   "metadata": {},
   "outputs": [],
   "source": [
    "import numpy as np"
   ]
  },
  {
   "cell_type": "code",
   "execution_count": 8,
   "id": "36351d52",
   "metadata": {},
   "outputs": [
    {
     "name": "stdout",
     "output_type": "stream",
     "text": [
      "[[5 3 0 0 7 0 0 0 0]\n",
      " [6 0 0 1 9 5 0 0 0]\n",
      " [0 8 9 0 0 0 0 6 0]\n",
      " [8 0 0 0 6 0 0 0 3]\n",
      " [4 0 0 8 0 3 0 0 1]\n",
      " [7 0 0 0 2 0 0 0 6]\n",
      " [0 6 0 0 0 0 2 0 8]\n",
      " [0 0 0 4 1 9 0 0 5]\n",
      " [0 0 0 0 8 0 0 7 9]]\n"
     ]
    }
   ],
   "source": [
    "print(np.matrix(grid))"
   ]
  },
  {
   "cell_type": "code",
   "execution_count": 16,
   "id": "55478c52",
   "metadata": {},
   "outputs": [],
   "source": [
    "# check for position\n",
    "# check for each square (3x3)\n",
    "\n",
    "def possible(y,x,n):\n",
    "    global grid\n",
    "    for i in range(0,9):\n",
    "        if grid[y][i] == n:\n",
    "            return False\n",
    "    for i in range(0,9):\n",
    "        if grid[i][x] == n:\n",
    "            return False\n",
    "    y0 = (y//3)*3\n",
    "    x0 = (x//3)*3\n",
    "    for i in range(0,3):\n",
    "        for j in range(0,3):\n",
    "            if grid[y0+i][x0+j] == n:\n",
    "                return False\n",
    "    return True"
   ]
  },
  {
   "cell_type": "code",
   "execution_count": 17,
   "id": "75d9cc9d",
   "metadata": {},
   "outputs": [
    {
     "data": {
      "text/plain": [
       "False"
      ]
     },
     "execution_count": 17,
     "metadata": {},
     "output_type": "execute_result"
    }
   ],
   "source": [
    "possible(4,4,3)"
   ]
  },
  {
   "cell_type": "code",
   "execution_count": 18,
   "id": "68bce4a3",
   "metadata": {},
   "outputs": [
    {
     "data": {
      "text/plain": [
       "True"
      ]
     },
     "execution_count": 18,
     "metadata": {},
     "output_type": "execute_result"
    }
   ],
   "source": [
    "possible(4,4,5)"
   ]
  },
  {
   "cell_type": "code",
   "execution_count": 23,
   "id": "5de01e73",
   "metadata": {},
   "outputs": [],
   "source": [
    "def solver():\n",
    "    global grid\n",
    "    for y in range(0,9):\n",
    "        for x in range(0,9):\n",
    "            if grid[y][x] == 0:\n",
    "                for i in range(1,10):\n",
    "                    if possible(y,x,i):\n",
    "                        grid[y][x] = i\n",
    "                        solver()\n",
    "                        #backtracking\n",
    "                        grid[y][x] = 0\n",
    "                return\n",
    "    print(np.matrix(grid))\n",
    "    input(\"Find another solution:\")"
   ]
  },
  {
   "cell_type": "code",
   "execution_count": 24,
   "id": "8e04f8b3",
   "metadata": {},
   "outputs": [
    {
     "name": "stdout",
     "output_type": "stream",
     "text": [
      "[[5 3 2 6 7 8 1 9 4]\n",
      " [6 4 7 1 9 5 3 8 2]\n",
      " [1 8 9 3 4 2 5 6 7]\n",
      " [8 2 1 7 6 4 9 5 3]\n",
      " [4 9 6 8 5 3 7 2 1]\n",
      " [7 5 3 9 2 1 8 4 6]\n",
      " [9 6 4 5 3 7 2 1 8]\n",
      " [2 7 8 4 1 9 6 3 5]\n",
      " [3 1 5 2 8 6 4 7 9]]\n",
      "Find another solution:\n"
     ]
    }
   ],
   "source": [
    "solver()"
   ]
  },
  {
   "cell_type": "code",
   "execution_count": 44,
   "id": "3c72f63c",
   "metadata": {},
   "outputs": [],
   "source": [
    "grid = [[12,11,23],[23,34,35],[51,55,56]]"
   ]
  },
  {
   "cell_type": "code",
   "execution_count": 45,
   "id": "e6ced898",
   "metadata": {},
   "outputs": [
    {
     "name": "stdout",
     "output_type": "stream",
     "text": [
      "[[12 11 23]\n",
      " [23 34 35]\n",
      " [51 55 56]]\n"
     ]
    }
   ],
   "source": [
    "print(np.matrix(grid))"
   ]
  },
  {
   "cell_type": "code",
   "execution_count": 32,
   "id": "57938699",
   "metadata": {},
   "outputs": [
    {
     "name": "stdout",
     "output_type": "stream",
     "text": [
      "12\n",
      "11\n",
      "23\n",
      "23\n",
      "34\n",
      "35\n",
      "51\n",
      "55\n",
      "56\n"
     ]
    }
   ],
   "source": [
    "for i in range(0,3):\n",
    "    for j in range(0,3):\n",
    "        print(grid[i][j])"
   ]
  },
  {
   "cell_type": "code",
   "execution_count": 43,
   "id": "13c54f2a",
   "metadata": {},
   "outputs": [
    {
     "name": "stdout",
     "output_type": "stream",
     "text": [
      "not exists 0 0\n",
      "not exists 0 1\n",
      "true 0 2\n",
      "not exists 0 2\n",
      "true 1 0\n",
      "not exists 1 0\n",
      "not exists 1 1\n",
      "not exists 1 2\n",
      "not exists 2 0\n",
      "not exists 2 1\n",
      "not exists 2 2\n"
     ]
    }
   ],
   "source": [
    "for i in range(0,3):\n",
    "    for j in range(0,3):\n",
    "        if grid[i][j] == 23:\n",
    "            print(\"true\", i, j)\n",
    "        print(\"not exists\", i, j)"
   ]
  }
 ],
 "metadata": {
  "kernelspec": {
   "display_name": "Python 3 (ipykernel)",
   "language": "python",
   "name": "python3"
  },
  "language_info": {
   "codemirror_mode": {
    "name": "ipython",
    "version": 3
   },
   "file_extension": ".py",
   "mimetype": "text/x-python",
   "name": "python",
   "nbconvert_exporter": "python",
   "pygments_lexer": "ipython3",
   "version": "3.10.2"
  }
 },
 "nbformat": 4,
 "nbformat_minor": 5
}
